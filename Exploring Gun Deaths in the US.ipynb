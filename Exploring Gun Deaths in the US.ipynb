{
 "cells": [
  {
   "cell_type": "markdown",
   "metadata": {},
   "source": [
    "# Exploring Gun Deaths in the US"
   ]
  },
  {
   "cell_type": "markdown",
   "metadata": {},
   "source": [
    "## Introducing US Gun Deaths Data"
   ]
  },
  {
   "cell_type": "code",
   "execution_count": 1,
   "metadata": {
    "collapsed": false
   },
   "outputs": [],
   "source": [
    "import csv\n",
    "\n",
    "with open(\"guns.csv\", \"r\") as f:\n",
    "    reader = csv.reader(f)\n",
    "    data = list(reader)"
   ]
  },
  {
   "cell_type": "code",
   "execution_count": 2,
   "metadata": {
    "collapsed": false
   },
   "outputs": [
    {
     "name": "stdout",
     "output_type": "stream",
     "text": [
      "[['', 'year', 'month', 'intent', 'police', 'sex', 'age', 'race', 'hispanic', 'place', 'education'], ['1', '2012', '01', 'Suicide', '0', 'M', '34', 'Asian/Pacific Islander', '100', 'Home', '4'], ['2', '2012', '01', 'Suicide', '0', 'F', '21', 'White', '100', 'Street', '3'], ['3', '2012', '01', 'Suicide', '0', 'M', '60', 'White', '100', 'Other specified', '4'], ['4', '2012', '02', 'Suicide', '0', 'M', '64', 'White', '100', 'Home', '4']]\n"
     ]
    }
   ],
   "source": [
    "print(data[:5])"
   ]
  },
  {
   "cell_type": "markdown",
   "metadata": {},
   "source": [
    "## Removing Headers From A List Of Lists"
   ]
  },
  {
   "cell_type": "code",
   "execution_count": 3,
   "metadata": {
    "collapsed": false
   },
   "outputs": [],
   "source": [
    "headers = data[0]\n",
    "data = data[1:]"
   ]
  },
  {
   "cell_type": "code",
   "execution_count": 4,
   "metadata": {
    "collapsed": false
   },
   "outputs": [
    {
     "name": "stdout",
     "output_type": "stream",
     "text": [
      "['', 'year', 'month', 'intent', 'police', 'sex', 'age', 'race', 'hispanic', 'place', 'education']\n"
     ]
    }
   ],
   "source": [
    "print(headers)"
   ]
  },
  {
   "cell_type": "code",
   "execution_count": 5,
   "metadata": {
    "collapsed": false
   },
   "outputs": [
    {
     "name": "stdout",
     "output_type": "stream",
     "text": [
      "[['1', '2012', '01', 'Suicide', '0', 'M', '34', 'Asian/Pacific Islander', '100', 'Home', '4'], ['2', '2012', '01', 'Suicide', '0', 'F', '21', 'White', '100', 'Street', '3'], ['3', '2012', '01', 'Suicide', '0', 'M', '60', 'White', '100', 'Other specified', '4'], ['4', '2012', '02', 'Suicide', '0', 'M', '64', 'White', '100', 'Home', '4'], ['5', '2012', '02', 'Suicide', '0', 'M', '31', 'White', '100', 'Other specified', '2']]\n"
     ]
    }
   ],
   "source": [
    "print(data[:5])"
   ]
  },
  {
   "cell_type": "markdown",
   "metadata": {},
   "source": [
    "## Create dictionary for the header"
   ]
  },
  {
   "cell_type": "code",
   "execution_count": 6,
   "metadata": {
    "collapsed": false
   },
   "outputs": [],
   "source": [
    "col_dict = dict(zip(headers,range(0,len(headers))))"
   ]
  },
  {
   "cell_type": "code",
   "execution_count": 7,
   "metadata": {
    "collapsed": false
   },
   "outputs": [
    {
     "name": "stdout",
     "output_type": "stream",
     "text": [
      "{'': 0, 'education': 10, 'police': 4, 'age': 6, 'sex': 5, 'hispanic': 8, 'race': 7, 'intent': 3, 'year': 1, 'place': 9, 'month': 2}\n"
     ]
    }
   ],
   "source": [
    "print(col_dict)"
   ]
  },
  {
   "cell_type": "markdown",
   "metadata": {},
   "source": [
    "## Counting Gun Deaths By Year"
   ]
  },
  {
   "cell_type": "code",
   "execution_count": 8,
   "metadata": {
    "collapsed": false
   },
   "outputs": [],
   "source": [
    "year_counts={}\n",
    "for row in data:\n",
    "    years = row[col_dict['year']]\n",
    "    if years in year_counts:\n",
    "        year_counts[years] = year_counts[years] + 1\n",
    "    else:\n",
    "        year_counts[years] = 1"
   ]
  },
  {
   "cell_type": "code",
   "execution_count": 9,
   "metadata": {
    "collapsed": false
   },
   "outputs": [
    {
     "data": {
      "text/plain": [
       "{'2012': 33563, '2013': 33636, '2014': 33599}"
      ]
     },
     "execution_count": 9,
     "metadata": {},
     "output_type": "execute_result"
    }
   ],
   "source": [
    "year_counts"
   ]
  },
  {
   "cell_type": "markdown",
   "metadata": {},
   "source": [
    "## Exploring Gun Deaths By Month And Year"
   ]
  },
  {
   "cell_type": "code",
   "execution_count": 10,
   "metadata": {
    "collapsed": false
   },
   "outputs": [],
   "source": [
    "import datetime as dt\n",
    "date_counts={}\n",
    "for row in data:\n",
    "    year = int(row[col_dict['year']])\n",
    "    month = int(row[col_dict['month']])\n",
    "    date = dt.datetime(year = year, month= month, day = 1)\n",
    "    date = date.strftime(\"%B, %Y\")\n",
    "    if date in date_counts:\n",
    "        date_counts[date] = date_counts[date] + 1\n",
    "    else:\n",
    "        date_counts[date] = 1 "
   ]
  },
  {
   "cell_type": "code",
   "execution_count": 11,
   "metadata": {
    "collapsed": false
   },
   "outputs": [
    {
     "name": "stdout",
     "output_type": "stream",
     "text": [
      "{'April, 2012': 2795, 'April, 2013': 2798, 'April, 2014': 2862, 'February, 2014': 2361, 'December, 2014': 2857, 'June, 2014': 2931, 'June, 2013': 2920, 'June, 2012': 2826, 'May, 2013': 2806, 'May, 2012': 2999, 'November, 2014': 2756, 'May, 2014': 2864, 'September, 2013': 2742, 'September, 2012': 2852, 'February, 2013': 2375, 'February, 2012': 2357, 'October, 2014': 2865, 'October, 2012': 2733, 'October, 2013': 2808, 'December, 2013': 2765, 'July, 2014': 2884, 'July, 2013': 3079, 'July, 2012': 3026, 'January, 2012': 2758, 'January, 2013': 2864, 'January, 2014': 2651, 'March, 2014': 2684, 'March, 2013': 2862, 'March, 2012': 2743, 'December, 2012': 2791, 'September, 2014': 2914, 'November, 2013': 2758, 'November, 2012': 2729, 'August, 2014': 2970, 'August, 2012': 2954, 'August, 2013': 2859}\n"
     ]
    }
   ],
   "source": [
    "print(date_counts)"
   ]
  },
  {
   "cell_type": "markdown",
   "metadata": {},
   "source": [
    "## Exploring Gun Deaths By Race And Sex"
   ]
  },
  {
   "cell_type": "code",
   "execution_count": 12,
   "metadata": {
    "collapsed": false
   },
   "outputs": [],
   "source": [
    "sex_counts={}\n",
    "race_counts={}\n",
    "\n",
    "for row in data:\n",
    "    sex = row[col_dict[\"sex\"]]\n",
    "    race = row[col_dict[\"race\"]]\n",
    "    i = [sex, race]\n",
    "    j = [sex_counts,race_counts]\n",
    "    for ii, jj in zip(i,j):\n",
    "        if ii in jj:\n",
    "            jj[ii] = jj[ii]+1\n",
    "        else:\n",
    "            jj[ii] = 1\n",
    "    "
   ]
  },
  {
   "cell_type": "code",
   "execution_count": 13,
   "metadata": {
    "collapsed": false
   },
   "outputs": [
    {
     "data": {
      "text/plain": [
       "{'F': 14449, 'M': 86349}"
      ]
     },
     "execution_count": 13,
     "metadata": {},
     "output_type": "execute_result"
    }
   ],
   "source": [
    "sex_counts"
   ]
  },
  {
   "cell_type": "code",
   "execution_count": 14,
   "metadata": {
    "collapsed": false
   },
   "outputs": [
    {
     "data": {
      "text/plain": [
       "{'Asian/Pacific Islander': 1326,\n",
       " 'Black': 23296,\n",
       " 'Hispanic': 9022,\n",
       " 'Native American/Native Alaskan': 917,\n",
       " 'White': 66237}"
      ]
     },
     "execution_count": 14,
     "metadata": {},
     "output_type": "execute_result"
    }
   ],
   "source": [
    "race_counts"
   ]
  },
  {
   "cell_type": "markdown",
   "metadata": {},
   "source": [
    "## Reading In A Second Dataset"
   ]
  },
  {
   "cell_type": "code",
   "execution_count": 15,
   "metadata": {
    "collapsed": false
   },
   "outputs": [],
   "source": [
    "census_read = csv.reader(open(\"census.csv\"))\n",
    "census = list(census_read)"
   ]
  },
  {
   "cell_type": "code",
   "execution_count": 16,
   "metadata": {
    "collapsed": false
   },
   "outputs": [
    {
     "name": "stdout",
     "output_type": "stream",
     "text": [
      "[['Id', 'Year', 'Id', 'Sex', 'Id', 'Hispanic Origin', 'Id', 'Id2', 'Geography', 'Total', 'Race Alone - White', 'Race Alone - Hispanic', 'Race Alone - Black or African American', 'Race Alone - American Indian and Alaska Native', 'Race Alone - Asian', 'Race Alone - Native Hawaiian and Other Pacific Islander', 'Two or More Races'], ['cen42010', 'April 1, 2010 Census', 'totsex', 'Both Sexes', 'tothisp', 'Total', '0100000US', '', 'United States', '308745538', '197318956', '44618105', '40250635', '3739506', '15159516', '674625', '6984195']]\n"
     ]
    }
   ],
   "source": [
    "print(census)"
   ]
  },
  {
   "cell_type": "markdown",
   "metadata": {},
   "source": [
    "## Create dictionary for the header"
   ]
  },
  {
   "cell_type": "code",
   "execution_count": 17,
   "metadata": {
    "collapsed": false
   },
   "outputs": [
    {
     "data": {
      "text/plain": [
       "7"
      ]
     },
     "execution_count": 17,
     "metadata": {},
     "output_type": "execute_result"
    }
   ],
   "source": [
    "census[0].index('Id2')"
   ]
  },
  {
   "cell_type": "code",
   "execution_count": 18,
   "metadata": {
    "collapsed": false
   },
   "outputs": [
    {
     "data": {
      "text/plain": [
       "('Id2', '')"
      ]
     },
     "execution_count": 18,
     "metadata": {},
     "output_type": "execute_result"
    }
   ],
   "source": [
    "census[0][7], census[1][7]"
   ]
  },
  {
   "cell_type": "code",
   "execution_count": 19,
   "metadata": {
    "collapsed": false
   },
   "outputs": [],
   "source": [
    "census[0].remove(census[0][7])\n",
    "census[1].remove(census[1][7])\n",
    "census[0][2] = 'Id1'\n",
    "census[0][4] = 'Id2'\n",
    "census[0][6] = 'Id3'"
   ]
  },
  {
   "cell_type": "code",
   "execution_count": 20,
   "metadata": {
    "collapsed": false
   },
   "outputs": [],
   "source": [
    "census_col_range =range(0,len(census[0]))\n",
    "census_col_dict = dict(zip(census[0],census_col_range))"
   ]
  },
  {
   "cell_type": "code",
   "execution_count": 21,
   "metadata": {
    "collapsed": false
   },
   "outputs": [
    {
     "data": {
      "text/plain": [
       "{'Geography': 7,\n",
       " 'Hispanic Origin': 5,\n",
       " 'Id': 0,\n",
       " 'Id1': 2,\n",
       " 'Id2': 4,\n",
       " 'Id3': 6,\n",
       " 'Race Alone - American Indian and Alaska Native': 12,\n",
       " 'Race Alone - Asian': 13,\n",
       " 'Race Alone - Black or African American': 11,\n",
       " 'Race Alone - Hispanic': 10,\n",
       " 'Race Alone - Native Hawaiian and Other Pacific Islander': 14,\n",
       " 'Race Alone - White': 9,\n",
       " 'Sex': 3,\n",
       " 'Total': 8,\n",
       " 'Two or More Races': 15,\n",
       " 'Year': 1}"
      ]
     },
     "execution_count": 21,
     "metadata": {},
     "output_type": "execute_result"
    }
   ],
   "source": [
    "census_col_dict"
   ]
  },
  {
   "cell_type": "markdown",
   "metadata": {},
   "source": [
    "## Computing Rates Of Gun Deaths Per Race"
   ]
  },
  {
   "cell_type": "code",
   "execution_count": 22,
   "metadata": {
    "collapsed": false
   },
   "outputs": [],
   "source": [
    "map_dict={}\n",
    "\n",
    "map_dict['Asian/Pacific Islander'] = int(census[1][census_col_dict['Race Alone - Asian']])+ int(census[1][census_col_dict['Race Alone - Native Hawaiian and Other Pacific Islander']])\n",
    "map_dict['Black'] =  int(census[1][census_col_dict['Race Alone - Black or African American']])\n",
    "map_dict['Hispanic'] =  int(census[1][census_col_dict['Race Alone - Hispanic']])\n",
    "map_dict['Native American/Native Alaskan'] =  int(census[1][census_col_dict['Race Alone - American Indian and Alaska Native']])\n",
    "map_dict['White'] =  int(census[1][census_col_dict['Race Alone - White']])"
   ]
  },
  {
   "cell_type": "code",
   "execution_count": 23,
   "metadata": {
    "collapsed": false
   },
   "outputs": [
    {
     "data": {
      "text/plain": [
       "{'Asian/Pacific Islander': 15834141,\n",
       " 'Black': 40250635,\n",
       " 'Hispanic': 44618105,\n",
       " 'Native American/Native Alaskan': 3739506,\n",
       " 'White': 197318956}"
      ]
     },
     "execution_count": 23,
     "metadata": {},
     "output_type": "execute_result"
    }
   ],
   "source": [
    "map_dict"
   ]
  },
  {
   "cell_type": "code",
   "execution_count": 24,
   "metadata": {
    "collapsed": false
   },
   "outputs": [],
   "source": [
    "race_per_hundredk={}\n",
    "for i,j in race_counts.items():\n",
    "    race_per_hundredk[i] = (float(j)/float(map_dict[i]))*100000\n",
    "    "
   ]
  },
  {
   "cell_type": "code",
   "execution_count": 25,
   "metadata": {
    "collapsed": false
   },
   "outputs": [
    {
     "data": {
      "text/plain": [
       "{'Asian/Pacific Islander': 8.374309664161762,\n",
       " 'Black': 57.8773477735196,\n",
       " 'Hispanic': 20.220491210910907,\n",
       " 'Native American/Native Alaskan': 24.521955573811088,\n",
       " 'White': 33.56849303419181}"
      ]
     },
     "execution_count": 25,
     "metadata": {},
     "output_type": "execute_result"
    }
   ],
   "source": [
    "race_per_hundredk"
   ]
  },
  {
   "cell_type": "markdown",
   "metadata": {},
   "source": [
    "## Filtering By Intent"
   ]
  },
  {
   "cell_type": "code",
   "execution_count": 26,
   "metadata": {
    "collapsed": false
   },
   "outputs": [],
   "source": [
    "homicide_race_per_hundredk={}\n",
    "\n",
    "for row in data:\n",
    "    intent = row[col_dict[\"intent\"]]\n",
    "    race = row[col_dict[\"race\"]]\n",
    "    if intent == 'Homicide':\n",
    "        if race in homicide_race_per_hundredk:\n",
    "            homicide_race_per_hundredk[race] = homicide_race_per_hundredk[race]+1\n",
    "        else:\n",
    "            homicide_race_per_hundredk[race] = 1"
   ]
  },
  {
   "cell_type": "code",
   "execution_count": 27,
   "metadata": {
    "collapsed": false
   },
   "outputs": [],
   "source": [
    "for i,j in homicide_race_per_hundredk.items():\n",
    "    if i in map_dict:\n",
    "        homicide_race_per_hundredk[i] = (float(j)/float(map_dict[i]))*100000"
   ]
  },
  {
   "cell_type": "code",
   "execution_count": 28,
   "metadata": {
    "collapsed": false
   },
   "outputs": [
    {
     "data": {
      "text/plain": [
       "{'Asian/Pacific Islander': 3.530346230970155,\n",
       " 'Black': 48.471284987180944,\n",
       " 'Hispanic': 12.627161104219914,\n",
       " 'Native American/Native Alaskan': 8.717729026240365,\n",
       " 'White': 4.6356417981453335}"
      ]
     },
     "execution_count": 28,
     "metadata": {},
     "output_type": "execute_result"
    }
   ],
   "source": [
    "homicide_race_per_hundredk"
   ]
  },
  {
   "cell_type": "markdown",
   "metadata": {
    "collapsed": true
   },
   "source": [
    "## Link between month and Hocime rate"
   ]
  },
  {
   "cell_type": "code",
   "execution_count": 29,
   "metadata": {
    "collapsed": true
   },
   "outputs": [],
   "source": [
    "homicide_rate_by_month = {}\n",
    "\n",
    "for row in data:\n",
    "    intent = row[col_dict[\"intent\"]]\n",
    "    month = row[col_dict[\"month\"]]\n",
    "    if intent == 'Homicide':\n",
    "        if month in homicide_rate_by_month:\n",
    "            homicide_rate_by_month[month] = homicide_rate_by_month[month]+1\n",
    "        else:\n",
    "            homicide_rate_by_month [month] = 1"
   ]
  },
  {
   "cell_type": "code",
   "execution_count": 30,
   "metadata": {
    "collapsed": false
   },
   "outputs": [
    {
     "name": "stdout",
     "output_type": "stream",
     "text": [
      "{'02': 2178, '03': 2780, '12': 3191, '06': 3130, '07': 3269, '04': 2845, '10': 2968, '08': 3125, '09': 2966, '01': 2829, '11': 2919, '05': 2976}\n"
     ]
    }
   ],
   "source": [
    "print(homicide_rate_by_month)"
   ]
  },
  {
   "cell_type": "code",
   "execution_count": 31,
   "metadata": {
    "collapsed": false
   },
   "outputs": [],
   "source": [
    "list_month = ['','Jan','Feb','Mar','Apr','May','June','July','Aug','Sept','Oct','Nov','Dec']\n",
    "\n",
    "for (i,k) in homicide_rate_by_month.items():\n",
    "    homicide_rate_by_month[list_month[int(i)]] = homicide_rate_by_month.pop(i)\n",
    "        "
   ]
  },
  {
   "cell_type": "code",
   "execution_count": 32,
   "metadata": {
    "collapsed": false
   },
   "outputs": [
    {
     "name": "stdout",
     "output_type": "stream",
     "text": [
      "{'Feb': 2178, 'Aug': 3125, 'Jan': 2829, 'Dec': 3191, 'Sept': 2966, 'Oct': 2968, 'Mar': 2780, 'Apr': 2845, 'June': 3130, 'May': 2976, 'July': 3269, 'Nov': 2919}\n"
     ]
    }
   ],
   "source": [
    "print(homicide_rate_by_month)"
   ]
  },
  {
   "cell_type": "code",
   "execution_count": null,
   "metadata": {
    "collapsed": false
   },
   "outputs": [],
   "source": []
  },
  {
   "cell_type": "code",
   "execution_count": null,
   "metadata": {
    "collapsed": false
   },
   "outputs": [],
   "source": []
  },
  {
   "cell_type": "code",
   "execution_count": null,
   "metadata": {
    "collapsed": true
   },
   "outputs": [],
   "source": []
  }
 ],
 "metadata": {
  "kernelspec": {
   "display_name": "Python 2",
   "language": "python",
   "name": "python2"
  },
  "language_info": {
   "codemirror_mode": {
    "name": "ipython",
    "version": 2
   },
   "file_extension": ".py",
   "mimetype": "text/x-python",
   "name": "python",
   "nbconvert_exporter": "python",
   "pygments_lexer": "ipython2",
   "version": "2.7.13"
  }
 },
 "nbformat": 4,
 "nbformat_minor": 0
}
