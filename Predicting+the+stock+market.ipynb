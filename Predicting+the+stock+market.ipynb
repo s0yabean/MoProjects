{
 "cells": [
  {
   "cell_type": "markdown",
   "metadata": {},
   "source": [
    "### Predicting the stock market"
   ]
  },
  {
   "cell_type": "code",
   "execution_count": 1,
   "metadata": {
    "collapsed": true
   },
   "outputs": [],
   "source": [
    "import pandas as pd\n",
    "import numpy as np\n",
    "import matplotlib.pyplot as plt\n",
    "from datetime import datetime"
   ]
  },
  {
   "cell_type": "markdown",
   "metadata": {},
   "source": [
    "#### Load data"
   ]
  },
  {
   "cell_type": "code",
   "execution_count": 2,
   "metadata": {
    "collapsed": false
   },
   "outputs": [
    {
     "name": "stdout",
     "output_type": "stream",
     "text": [
      "        Date   Open   High    Low  Close     Volume  Adj Close\n",
      "0 1950-01-03  16.66  16.66  16.66  16.66  1260000.0      16.66\n",
      "1 1950-01-04  16.85  16.85  16.85  16.85  1890000.0      16.85\n",
      "2 1950-01-05  16.93  16.93  16.93  16.93  2550000.0      16.93\n",
      "3 1950-01-06  16.98  16.98  16.98  16.98  2010000.0      16.98\n",
      "4 1950-01-09  17.08  17.08  17.08  17.08  2520000.0      17.08\n"
     ]
    }
   ],
   "source": [
    "data = pd.read_csv(\"sphist.csv\")\n",
    "\n",
    "data['Date'] = pd.to_datetime(data['Date'])\n",
    "data = data.sort_values(by='Date', ascending = True)\n",
    "data.reset_index(inplace=True, drop=True)\n",
    "print(data.head())\n"
   ]
  },
  {
   "cell_type": "markdown",
   "metadata": {},
   "source": [
    "#### Caclulate Average of 5 Days, 30 days, and 365 days"
   ]
  },
  {
   "cell_type": "code",
   "execution_count": 3,
   "metadata": {
    "collapsed": false
   },
   "outputs": [],
   "source": [
    "data['day_5']=0\n",
    "data['day_30']=0\n",
    "data['day_365']=0\n",
    "avg_dict = [{5:'day_5'},{30:'day_30'}, {365:'day_365'}]\n",
    "for p in avg_dict:\n",
    "    k = list(p)[0]\n",
    "    item = p[k]\n",
    "    for i in range(len(data)):\n",
    "        if i < k:\n",
    "            data.loc[i, item] = data.loc[i, 'Close']\n",
    "        else:\n",
    "            data.loc[i, item] = data.loc[i-k:i, 'Close'].mean()"
   ]
  },
  {
   "cell_type": "markdown",
   "metadata": {
    "collapsed": true
   },
   "source": [
    "#### Caclulate Standard deviation of 5 Days, 30 days, and 365 days"
   ]
  },
  {
   "cell_type": "code",
   "execution_count": 4,
   "metadata": {
    "collapsed": true
   },
   "outputs": [],
   "source": [
    "data['day_5_std']=0\n",
    "data['day_30_std']=0\n",
    "data['day_365_std']=0\n",
    "std_dict = [{6:'day_5_std'},{31:'day_30_std'}, {366:'day_365_std'}]\n",
    "for p in std_dict:\n",
    "    k = list(p)[0]\n",
    "    item = p[k]\n",
    "    for i in range(len(data)):\n",
    "        if i < k:\n",
    "            data.loc[i, item] = data.loc[i, 'Close']\n",
    "        else:\n",
    "            data.loc[i, item] = data.loc[i-k:i, 'Close'].mean()\n",
    "\n",
    "#print(data.head(20))"
   ]
  },
  {
   "cell_type": "markdown",
   "metadata": {},
   "source": [
    "#### Create components for Year, Month, Day of week, Week of year"
   ]
  },
  {
   "cell_type": "code",
   "execution_count": 5,
   "metadata": {
    "collapsed": false
   },
   "outputs": [],
   "source": [
    "# Year component\n",
    "data['Year'] = data['Date'].apply(lambda x: x.strftime('%Y'))\n",
    "data['Year'] = data['Year'].astype(int)\n",
    "# Month component\n",
    "data['Month'] = data['Date'].apply(lambda x: x.strftime('%m'))\n",
    "data['Month'] = data['Month'].astype(int)\n",
    "# Day of week component\n",
    "data['Dow'] = data['Date'].apply(lambda x: x.strftime('%w'))\n",
    "data['Dow'] = data['Dow'].astype(int)\n",
    "# Week of year component\n",
    "data['Woy'] = data['Date'].apply(lambda x: x.strftime('%U'))\n",
    "data['Woy'] = data['Woy'].astype(int)"
   ]
  },
  {
   "cell_type": "code",
   "execution_count": 6,
   "metadata": {
    "collapsed": false
   },
   "outputs": [
    {
     "data": {
      "text/html": [
       "<div>\n",
       "<style>\n",
       "    .dataframe thead tr:only-child th {\n",
       "        text-align: right;\n",
       "    }\n",
       "\n",
       "    .dataframe thead th {\n",
       "        text-align: left;\n",
       "    }\n",
       "\n",
       "    .dataframe tbody tr th {\n",
       "        vertical-align: top;\n",
       "    }\n",
       "</style>\n",
       "<table border=\"1\" class=\"dataframe\">\n",
       "  <thead>\n",
       "    <tr style=\"text-align: right;\">\n",
       "      <th></th>\n",
       "      <th>Date</th>\n",
       "      <th>Open</th>\n",
       "      <th>High</th>\n",
       "      <th>Low</th>\n",
       "      <th>Close</th>\n",
       "      <th>Volume</th>\n",
       "      <th>Adj Close</th>\n",
       "      <th>day_5</th>\n",
       "      <th>day_30</th>\n",
       "      <th>day_365</th>\n",
       "      <th>day_5_std</th>\n",
       "      <th>day_30_std</th>\n",
       "      <th>day_365_std</th>\n",
       "      <th>Year</th>\n",
       "      <th>Month</th>\n",
       "      <th>Dow</th>\n",
       "      <th>Woy</th>\n",
       "    </tr>\n",
       "  </thead>\n",
       "  <tbody>\n",
       "    <tr>\n",
       "      <th>0</th>\n",
       "      <td>1950-01-03</td>\n",
       "      <td>16.66</td>\n",
       "      <td>16.66</td>\n",
       "      <td>16.66</td>\n",
       "      <td>16.66</td>\n",
       "      <td>1260000.0</td>\n",
       "      <td>16.66</td>\n",
       "      <td>16.66</td>\n",
       "      <td>16.66</td>\n",
       "      <td>16.66</td>\n",
       "      <td>16.66</td>\n",
       "      <td>16.66</td>\n",
       "      <td>16.66</td>\n",
       "      <td>1950</td>\n",
       "      <td>1</td>\n",
       "      <td>2</td>\n",
       "      <td>1</td>\n",
       "    </tr>\n",
       "    <tr>\n",
       "      <th>1</th>\n",
       "      <td>1950-01-04</td>\n",
       "      <td>16.85</td>\n",
       "      <td>16.85</td>\n",
       "      <td>16.85</td>\n",
       "      <td>16.85</td>\n",
       "      <td>1890000.0</td>\n",
       "      <td>16.85</td>\n",
       "      <td>16.85</td>\n",
       "      <td>16.85</td>\n",
       "      <td>16.85</td>\n",
       "      <td>16.85</td>\n",
       "      <td>16.85</td>\n",
       "      <td>16.85</td>\n",
       "      <td>1950</td>\n",
       "      <td>1</td>\n",
       "      <td>3</td>\n",
       "      <td>1</td>\n",
       "    </tr>\n",
       "    <tr>\n",
       "      <th>2</th>\n",
       "      <td>1950-01-05</td>\n",
       "      <td>16.93</td>\n",
       "      <td>16.93</td>\n",
       "      <td>16.93</td>\n",
       "      <td>16.93</td>\n",
       "      <td>2550000.0</td>\n",
       "      <td>16.93</td>\n",
       "      <td>16.93</td>\n",
       "      <td>16.93</td>\n",
       "      <td>16.93</td>\n",
       "      <td>16.93</td>\n",
       "      <td>16.93</td>\n",
       "      <td>16.93</td>\n",
       "      <td>1950</td>\n",
       "      <td>1</td>\n",
       "      <td>4</td>\n",
       "      <td>1</td>\n",
       "    </tr>\n",
       "    <tr>\n",
       "      <th>3</th>\n",
       "      <td>1950-01-06</td>\n",
       "      <td>16.98</td>\n",
       "      <td>16.98</td>\n",
       "      <td>16.98</td>\n",
       "      <td>16.98</td>\n",
       "      <td>2010000.0</td>\n",
       "      <td>16.98</td>\n",
       "      <td>16.98</td>\n",
       "      <td>16.98</td>\n",
       "      <td>16.98</td>\n",
       "      <td>16.98</td>\n",
       "      <td>16.98</td>\n",
       "      <td>16.98</td>\n",
       "      <td>1950</td>\n",
       "      <td>1</td>\n",
       "      <td>5</td>\n",
       "      <td>1</td>\n",
       "    </tr>\n",
       "    <tr>\n",
       "      <th>4</th>\n",
       "      <td>1950-01-09</td>\n",
       "      <td>17.08</td>\n",
       "      <td>17.08</td>\n",
       "      <td>17.08</td>\n",
       "      <td>17.08</td>\n",
       "      <td>2520000.0</td>\n",
       "      <td>17.08</td>\n",
       "      <td>17.08</td>\n",
       "      <td>17.08</td>\n",
       "      <td>17.08</td>\n",
       "      <td>17.08</td>\n",
       "      <td>17.08</td>\n",
       "      <td>17.08</td>\n",
       "      <td>1950</td>\n",
       "      <td>1</td>\n",
       "      <td>1</td>\n",
       "      <td>2</td>\n",
       "    </tr>\n",
       "  </tbody>\n",
       "</table>\n",
       "</div>"
      ],
      "text/plain": [
       "        Date   Open   High    Low  Close     Volume  Adj Close  day_5  day_30  \\\n",
       "0 1950-01-03  16.66  16.66  16.66  16.66  1260000.0      16.66  16.66   16.66   \n",
       "1 1950-01-04  16.85  16.85  16.85  16.85  1890000.0      16.85  16.85   16.85   \n",
       "2 1950-01-05  16.93  16.93  16.93  16.93  2550000.0      16.93  16.93   16.93   \n",
       "3 1950-01-06  16.98  16.98  16.98  16.98  2010000.0      16.98  16.98   16.98   \n",
       "4 1950-01-09  17.08  17.08  17.08  17.08  2520000.0      17.08  17.08   17.08   \n",
       "\n",
       "   day_365  day_5_std  day_30_std  day_365_std  Year  Month  Dow  Woy  \n",
       "0    16.66      16.66       16.66        16.66  1950      1    2    1  \n",
       "1    16.85      16.85       16.85        16.85  1950      1    3    1  \n",
       "2    16.93      16.93       16.93        16.93  1950      1    4    1  \n",
       "3    16.98      16.98       16.98        16.98  1950      1    5    1  \n",
       "4    17.08      17.08       17.08        17.08  1950      1    1    2  "
      ]
     },
     "execution_count": 6,
     "metadata": {},
     "output_type": "execute_result"
    }
   ],
   "source": [
    "data.head()"
   ]
  },
  {
   "cell_type": "markdown",
   "metadata": {},
   "source": [
    "Select date over 1951-1-2 and drop any null value"
   ]
  },
  {
   "cell_type": "code",
   "execution_count": 7,
   "metadata": {
    "collapsed": false
   },
   "outputs": [
    {
     "name": "stdout",
     "output_type": "stream",
     "text": [
      "False\n"
     ]
    },
    {
     "name": "stderr",
     "output_type": "stream",
     "text": [
      "C:\\Users\\mbelkhei\\AppData\\Local\\Continuum\\Anaconda2\\lib\\site-packages\\ipykernel\\__main__.py:2: SettingWithCopyWarning: \n",
      "A value is trying to be set on a copy of a slice from a DataFrame\n",
      "\n",
      "See the caveats in the documentation: http://pandas.pydata.org/pandas-docs/stable/indexing.html#indexing-view-versus-copy\n",
      "  from ipykernel import kernelapp as app\n"
     ]
    }
   ],
   "source": [
    "data_new = data[data[\"Date\"] > datetime(year=1951, month=1, day=2)]\n",
    "data_new.dropna(axis=0, inplace=True)\n",
    "print(data_new.isnull().values.any())"
   ]
  },
  {
   "cell_type": "markdown",
   "metadata": {},
   "source": [
    "#### split 70/30"
   ]
  },
  {
   "cell_type": "code",
   "execution_count": 19,
   "metadata": {
    "collapsed": false
   },
   "outputs": [
    {
     "data": {
      "text/plain": [
       "Timestamp('1996-03-01 00:00:00')"
      ]
     },
     "execution_count": 19,
     "metadata": {},
     "output_type": "execute_result"
    }
   ],
   "source": [
    "data['Date'].ix[int(0.7*len(data))]"
   ]
  },
  {
   "cell_type": "code",
   "execution_count": 9,
   "metadata": {
    "collapsed": true
   },
   "outputs": [],
   "source": [
    "train = data_new[data_new[\"Date\"] < datetime(year= 1996, month=3, day=1)]\n",
    "test = data_new[data_new[\"Date\"] >= datetime(year= 1996, month=3, day=1)]\n",
    "\n",
    "y_train= train['Close']\n",
    "y_test = test['Close']\n",
    "train_bis = train[train.columns.tolist()[7:]]\n",
    "test_bis = test[test.columns.tolist()[7:]]\n"
   ]
  },
  {
   "cell_type": "markdown",
   "metadata": {},
   "source": [
    "#### Train and predict"
   ]
  },
  {
   "cell_type": "code",
   "execution_count": 13,
   "metadata": {
    "collapsed": true
   },
   "outputs": [],
   "source": [
    "from sklearn.linear_model import LinearRegression\n",
    "\n",
    "lr = LinearRegression()\n",
    "lr.fit(train_bis.values, y_train.values)\n",
    "predict = lr.predict(test_bis)"
   ]
  },
  {
   "cell_type": "markdown",
   "metadata": {},
   "source": [
    "#### Use mean absolute error as metric to evaluate performance of our model"
   ]
  },
  {
   "cell_type": "code",
   "execution_count": 14,
   "metadata": {
    "collapsed": false
   },
   "outputs": [
    {
     "name": "stdout",
     "output_type": "stream",
     "text": [
      "89.0198766529\n"
     ]
    }
   ],
   "source": [
    "from sklearn.metrics import mean_squared_error, mean_absolute_error\n",
    "perf = 100-mean_absolute_error(test['Close'].values, predict)\n",
    "print(perf)"
   ]
  },
  {
   "cell_type": "code",
   "execution_count": null,
   "metadata": {
    "collapsed": false
   },
   "outputs": [],
   "source": [
    "test['predicted_close'] = predict.tolist()"
   ]
  },
  {
   "cell_type": "code",
   "execution_count": 16,
   "metadata": {
    "collapsed": false
   },
   "outputs": [
    {
     "data": {
      "text/plain": [
       "0.99791643217079118"
      ]
     },
     "execution_count": 16,
     "metadata": {},
     "output_type": "execute_result"
    }
   ],
   "source": [
    "from sklearn.metrics import r2_score\n",
    "\n",
    "# how well our model would do on future unseen data\n",
    "r2_score(test['Close'].values, predict) "
   ]
  },
  {
   "cell_type": "code",
   "execution_count": 17,
   "metadata": {
    "collapsed": false
   },
   "outputs": [
    {
     "name": "stdout",
     "output_type": "stream",
     "text": [
      "('Coefficients: \\n', array([  3.59858586e+00,   3.05873558e-02,  -1.10023642e+00,\n",
      "        -2.60841538e+00,  -2.02348587e-02,   1.10062274e+00,\n",
      "        -5.81337903e-04,   4.23894082e-03,   2.36249611e-02,\n",
      "        -1.91150266e-03]))\n",
      "Mean squared error: 230.26\n",
      "Variance score: 1.00\n"
     ]
    }
   ],
   "source": [
    "import numpy as np\n",
    "# The coefficients\n",
    "print('Coefficients: \\n', lr.coef_)\n",
    "# The mean squared error\n",
    "print(\"Mean squared error: %.2f\"\n",
    "      % np.mean((lr.predict(test_bis) - test['Close']) ** 2))\n",
    "# Explained variance score: 1 is perfect prediction\n",
    "print('Variance score: %.2f' % lr.score(test_bis, y_test))"
   ]
  },
  {
   "cell_type": "markdown",
   "metadata": {},
   "source": [
    "#### plot actual and predicted values of close"
   ]
  },
  {
   "cell_type": "code",
   "execution_count": 18,
   "metadata": {
    "collapsed": false
   },
   "outputs": [
    {
     "data": {
      "image/png": "[encoded data removed]",
      "text/plain": [
       "<matplotlib.figure.Figure at 0xcdc13c8>"
      ]
     },
     "metadata": {},
     "output_type": "display_data"
    }
   ],
   "source": [
    "plt.scatter(range(len(test)),test['Close'], c='r', s=20)\n",
    "plt.scatter(range(len(test)),test['predicted_close'], c='b', s=0.1)\n",
    "plt.legend()\n",
    "plt.show()"
   ]
  },
  {
   "cell_type": "code",
   "execution_count": null,
   "metadata": {
    "collapsed": true
   },
   "outputs": [],
   "source": []
  }
 ],
 "metadata": {
  "kernelspec": {
   "display_name": "Python 2",
   "language": "python",
   "name": "python2"
  },
  "language_info": {
   "codemirror_mode": {
    "name": "ipython",
    "version": 2
   },
   "file_extension": ".py",
   "mimetype": "text/x-python",
   "name": "python",
   "nbconvert_exporter": "python",
   "pygments_lexer": "ipython2",
   "version": "2.7.13"
  }
 },
 "nbformat": 4,
 "nbformat_minor": 2
}
